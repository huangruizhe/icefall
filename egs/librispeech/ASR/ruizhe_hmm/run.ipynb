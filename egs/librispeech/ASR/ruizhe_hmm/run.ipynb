{
 "cells": [
  {
   "cell_type": "code",
   "execution_count": null,
   "metadata": {},
   "outputs": [],
   "source": [
    "# https://stackoverflow.com/questions/37890898/how-to-set-env-variable-in-jupyter-notebook\n",
    "# %env PYTHONPATH=/export/fs04/a12/rhuang/k2/k2/python:$PYTHONPATH # for `import k2`\n",
    "# %env PYTHONPATH=/export/fs04/a12/rhuang/k2/build/temp.linux-x86_64-cpython-38/lib/:$PYTHONPATH # for `import _k2`\n",
    "# # export PYTHONPATH=/export/fs04/a12/rhuang/icefall_align/:$PYTHONPATH\n",
    "# # export PYTHONPATH=/export/fs04/a12/rhuang/icefall/:$PYTHONPATH\n",
    "# %env PYTHONPATH=/export/fs04/a12/rhuang/icefall_align2/:$PYTHONPATH\n",
    "\n",
    "import sys\n",
    "sys.path.append(\"/export/fs04/a12/rhuang/k2/k2/python\")\n",
    "sys.path.append(\"/export/fs04/a12/rhuang/k2/build/temp.linux-x86_64-cpython-38/lib/\")\n",
    "sys.path.append(\"/export/fs04/a12/rhuang/icefall_align2/\")\n"
   ]
  }
 ],
 "metadata": {
  "kernelspec": {
   "display_name": "efrat2",
   "language": "python",
   "name": "python3"
  },
  "language_info": {
   "name": "python",
   "version": "3.8.16"
  },
  "orig_nbformat": 4
 },
 "nbformat": 4,
 "nbformat_minor": 2
}
